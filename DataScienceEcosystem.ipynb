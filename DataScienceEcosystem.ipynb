{
 "cells": [
  {
   "cell_type": "markdown",
   "id": "e591b9be-f8e7-4f8a-8793-3d8019d0c774",
   "metadata": {},
   "source": [
    "# Data Science Tools and Ecosystem"
   ]
  },
  {
   "cell_type": "markdown",
   "id": "5b274468-c127-43d8-9a6e-7b7cf92e8aff",
   "metadata": {},
   "source": [
    "### In this notebook, Data Science Tools and Ecosystem are summarized.\n"
   ]
  },
  {
   "cell_type": "markdown",
   "id": "67cd2d6f-7c55-483c-aa3d-0405b14eca64",
   "metadata": {},
   "source": [
    "##### Objectives  \n",
    " \n",
    ". commonly used languages for data science.  \n",
    ". commonly used libraries in data science.  \n",
    ". development environment open source tools used in data science.\n",
    "\n",
    "\n"
   ]
  },
  {
   "cell_type": "markdown",
   "id": "6b7e1455-8b6e-45ec-8ea5-dd8ffffd6c94",
   "metadata": {},
   "source": [
    "#### Some of the popular languages that Data Scientists use are:\n",
    "\n",
    "1. Java\n",
    "2. Python\n",
    "3. R"
   ]
  },
  {
   "cell_type": "markdown",
   "id": "31ae5021-8e76-4a2a-b0d7-22a6fdd3fa95",
   "metadata": {},
   "source": [
    "#### Some of the commonly used libraries used by Data Scientists include:\n",
    "\n",
    "1. NumPy\n",
    "2. Matplotlib\n",
    "3. TensorFlow\n",
    "4. Pandas\n"
   ]
  },
  {
   "cell_type": "markdown",
   "id": "1f22195b-5d67-4b5e-88d3-2f61a20a18b5",
   "metadata": {},
   "source": [
    "|Data Science Tools|\n",
    "--------------------\n",
    "| R Studio         |\n",
    "--------------------\n",
    "|Jupyter Notebook  |\n",
    "--------------------\n",
    "|Scikit-learn      |\n",
    "--------------------\n",
    "\n"
   ]
  },
  {
   "cell_type": "markdown",
   "id": "629f1e09-fa4a-4ad6-9df5-634ffe07db57",
   "metadata": {},
   "source": [
    "### Below are a few examples of evaluating arithmetic expressions in Python\n",
    "1. a*b\n",
    "2. a-b\n",
    "3. a//b\n",
    "4. a+b"
   ]
  },
  {
   "cell_type": "code",
   "execution_count": 2,
   "id": "f062eec8-49a0-4800-8c8d-8bac12701304",
   "metadata": {},
   "outputs": [
    {
     "data": {
      "text/plain": [
       "17"
      ]
     },
     "execution_count": 2,
     "metadata": {},
     "output_type": "execute_result"
    }
   ],
   "source": [
    "# This a simple arithmetic expression to mutiply then add integers\n",
    "\n",
    "(3*4)+5"
   ]
  },
  {
   "cell_type": "code",
   "execution_count": 5,
   "id": "b6a92bdf-02b2-46e8-9b7c-9633fcef29c4",
   "metadata": {},
   "outputs": [
    {
     "data": {
      "text/plain": [
       "3.3333333333333335"
      ]
     },
     "execution_count": 5,
     "metadata": {},
     "output_type": "execute_result"
    }
   ],
   "source": [
    "# This will convert 200 minutes to hours by diving by 60\n",
    "200/60\n"
   ]
  },
  {
   "cell_type": "markdown",
   "id": "d0b8138c-053b-41cd-99e6-562d09e2a9f2",
   "metadata": {},
   "source": [
    "## Author\n",
    "Vikas\n"
   ]
  },
  {
   "cell_type": "markdown",
   "id": "c65a4e52-8d6c-4c8a-a018-be636c25448f",
   "metadata": {},
   "source": []
  }
 ],
 "metadata": {
  "kernelspec": {
   "display_name": "Python 3 (ipykernel)",
   "language": "python",
   "name": "python3"
  },
  "language_info": {
   "codemirror_mode": {
    "name": "ipython",
    "version": 3
   },
   "file_extension": ".py",
   "mimetype": "text/x-python",
   "name": "python",
   "nbconvert_exporter": "python",
   "pygments_lexer": "ipython3",
   "version": "3.12.8"
  }
 },
 "nbformat": 4,
 "nbformat_minor": 5
}
